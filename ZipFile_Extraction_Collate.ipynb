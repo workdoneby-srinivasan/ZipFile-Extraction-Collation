{
  "nbformat": 4,
  "nbformat_minor": 0,
  "metadata": {
    "colab": {
      "provenance": []
    },
    "kernelspec": {
      "name": "python3",
      "display_name": "Python 3"
    },
    "language_info": {
      "name": "python"
    }
  },
  "cells": [
    {
      "cell_type": "code",
      "source": [
        "file_path = '/content/drive/MyDrive/Gen-AI-POC/ReadingMaterials.zip'\n",
        "output_docx_path = '/content/drive/MyDrive/Gen-AI-POC'"
      ],
      "metadata": {
        "id": "-ec7JuHD0t2N"
      },
      "execution_count": 2,
      "outputs": []
    },
    {
      "cell_type": "code",
      "source": [
        "pip install python-docx"
      ],
      "metadata": {
        "colab": {
          "base_uri": "https://localhost:8080/"
        },
        "id": "71s7qAyy0lBX",
        "outputId": "9da310d9-89f1-40a4-d485-5bd05492611c"
      },
      "execution_count": 1,
      "outputs": [
        {
          "output_type": "stream",
          "name": "stdout",
          "text": [
            "Collecting python-docx\n",
            "  Downloading python_docx-1.1.2-py3-none-any.whl.metadata (2.0 kB)\n",
            "Requirement already satisfied: lxml>=3.1.0 in /usr/local/lib/python3.11/dist-packages (from python-docx) (5.3.1)\n",
            "Requirement already satisfied: typing-extensions>=4.9.0 in /usr/local/lib/python3.11/dist-packages (from python-docx) (4.13.0)\n",
            "Downloading python_docx-1.1.2-py3-none-any.whl (244 kB)\n",
            "\u001b[2K   \u001b[90m━━━━━━━━━━━━━━━━━━━━━━━━━━━━━━━━━━━━━━━━\u001b[0m \u001b[32m244.3/244.3 kB\u001b[0m \u001b[31m4.4 MB/s\u001b[0m eta \u001b[36m0:00:00\u001b[0m\n",
            "\u001b[?25hInstalling collected packages: python-docx\n",
            "Successfully installed python-docx-1.1.2\n"
          ]
        }
      ]
    },
    {
      "cell_type": "code",
      "execution_count": 3,
      "metadata": {
        "id": "oq1YyADaybJo"
      },
      "outputs": [],
      "source": [
        "import zipfile\n",
        "import os\n",
        "from docx import Document\n",
        "\n",
        "def extract_text_from_docx(file_path):\n",
        "    try:\n",
        "        doc = Document(file_path)\n",
        "        full_text = [para.text for para in doc.paragraphs]\n",
        "        return '\\n'.join(full_text)\n",
        "    except Exception as e:\n",
        "        print(f\"Error reading {file_path}: {e}\")\n",
        "        return \"\"\n",
        "\n",
        "def extract_and_collate_docx_to_docx(zip_path):\n",
        "    # Get base info\n",
        "    zip_dir = os.path.dirname(zip_path)\n",
        "    zip_name = os.path.splitext(os.path.basename(zip_path))[0]\n",
        "    extract_dir = os.path.join(zip_dir, f\"{zip_name}_extracted\")\n",
        "    os.makedirs(extract_dir, exist_ok=True)\n",
        "\n",
        "    # Extract ZIP\n",
        "    with zipfile.ZipFile(zip_path, 'r') as zip_ref:\n",
        "        zip_ref.extractall(extract_dir)\n",
        "\n",
        "    # Create new DOCX document\n",
        "    combined_doc = Document()\n",
        "\n",
        "    # Walk through extracted files\n",
        "    for root, _, files in os.walk(extract_dir):\n",
        "        for file in files:\n",
        "            if file.lower().endswith('.docx'):\n",
        "                file_path = os.path.join(root, file)\n",
        "                combined_doc.add_paragraph(f\"\\n===== File: {file} =====\\n\", style='Heading 2')\n",
        "                content = extract_text_from_docx(file_path)\n",
        "                combined_doc.add_paragraph(content)\n",
        "\n",
        "    # Save final combined DOCX\n",
        "    output_docx_path = os.path.join(zip_dir, f\"{zip_name}_combined_output.docx\")\n",
        "    combined_doc.save(output_docx_path)\n",
        "\n",
        "    print(f\"\\n Combined Word document saved at: {output_docx_path}\")"
      ]
    },
    {
      "cell_type": "code",
      "source": [
        "zip_file_path = r\"/content/drive/MyDrive/Gen-AI-POC/ReadingMaterials.zip\"  # Replace this with your zip file path\n",
        "extract_and_collate_docx_to_docx(zip_file_path)"
      ],
      "metadata": {
        "colab": {
          "base_uri": "https://localhost:8080/"
        },
        "id": "JYPGEUzC18lx",
        "outputId": "ae7b87f2-ce87-4597-901f-029970f71dd5"
      },
      "execution_count": 4,
      "outputs": [
        {
          "output_type": "stream",
          "name": "stdout",
          "text": [
            "\n",
            "✅ Combined Word document saved at: /content/drive/MyDrive/Gen-AI-POC/ReadingMaterials_combined_output.docx\n"
          ]
        }
      ]
    }
  ]
}